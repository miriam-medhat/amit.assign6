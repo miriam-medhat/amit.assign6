{
 "cells": [
  {
   "cell_type": "markdown",
   "id": "9126c25d-60fa-4b94-8167-45f83ac88b85",
   "metadata": {},
   "source": [
    "Task 1: Computation class"
   ]
  },
  {
   "cell_type": "code",
   "execution_count": null,
   "id": "f1b5361f-73ff-4f7d-ac1e-36f97e2243e4",
   "metadata": {},
   "outputs": [],
   "source": []
  },
  {
   "cell_type": "markdown",
   "id": "2e63ece4-7d68-4346-82d0-258408908cbb",
   "metadata": {},
   "source": [
    "Task 2 : Shape Hierarchy (Inheritance & Polymorphism)"
   ]
  },
  {
   "cell_type": "code",
   "execution_count": 24,
   "id": "8b3eb18e-15f1-4e9c-8972-87de3861289e",
   "metadata": {},
   "outputs": [
    {
     "name": "stdout",
     "output_type": "stream",
     "text": [
      "15\n",
      "50.24\n",
      "6.0\n",
      "71.24000000000001\n"
     ]
    }
   ],
   "source": [
    "from abc import ABC, abstractclassmethod\n",
    "class shape(ABC):\n",
    "    @abstractclassmethod\n",
    "    def area(self):\n",
    "        pass\n",
    "\n",
    "class rectangle(shape):\n",
    "    def __init__(self, l, w):\n",
    "        self.l = l\n",
    "        self.w = w\n",
    "    def area(self):\n",
    "        return (self.l * self.w)\n",
    "        \n",
    "class circle(shape):\n",
    "    def __init__(self, r):\n",
    "        self.r = r\n",
    "    def area(self):\n",
    "        return (3.14 * self.r ** 2)\n",
    "        \n",
    "class triangle(shape): \n",
    "    def __init__(self, b, h):\n",
    "        self.b = b\n",
    "        self.h = h\n",
    "    def area(self):\n",
    "        return (0.5 * self.b * self.h)\n",
    "\n",
    "def calculate_total_area(shapes: list):\n",
    "    total_area = 0\n",
    "    for shape in shapes:\n",
    "        total_area += shape.area()\n",
    "    return total_area\n",
    "\n",
    "rect = rectangle(5, 3)\n",
    "circ = circle(4)\n",
    "tri = triangle(2, 6)\n",
    "\n",
    "print(rect.area())\n",
    "print(circ.area())\n",
    "print(tri.area())\n",
    "\n",
    "shapes = [rect, circ, tri]\n",
    "print(calculate_total_area(shapes))"
   ]
  },
  {
   "cell_type": "markdown",
   "id": "df4b796f-875c-42e2-8d7b-d01373f481d1",
   "metadata": {},
   "source": [
    "Task 1 :Write a Python program to create a calculator class. Include methods for basic arithmetic operations"
   ]
  },
  {
   "cell_type": "code",
   "execution_count": 14,
   "id": "6c19901f-efb4-41ab-8597-95e66ea0bd8e",
   "metadata": {},
   "outputs": [
    {
     "name": "stdout",
     "output_type": "stream",
     "text": [
      "12\n",
      "13\n",
      "108\n",
      "72.0\n",
      "cannot divide by zero.\n"
     ]
    }
   ],
   "source": [
    "class calculator():\n",
    "    def add(self, x, y):\n",
    "        return x + y\n",
    "    def subtract(self, x, y):\n",
    "        return x - y\n",
    "    def multiply(self, x, y):\n",
    "        return x * y\n",
    "    def divide(self, x, y):\n",
    "        if y != 0:\n",
    "            return x / y\n",
    "        else:\n",
    "            return \"cannot divide by zero.\"\n",
    "\n",
    "calc = calculator()\n",
    "\n",
    "print(calc.add(7, 5))\n",
    "print(calc.subtract(34, 21))\n",
    "print(calc.multiply(54, 2))\n",
    "print(calc.divide(144, 2))\n",
    "print(calc.divide(45, 0))"
   ]
  },
  {
   "cell_type": "markdown",
   "id": "c7a532b1-4b4a-4e88-bf6f-d8c07aa2852e",
   "metadata": {},
   "source": [
    "Task 2: Rectangle class:"
   ]
  },
  {
   "cell_type": "code",
   "execution_count": 16,
   "id": "db60493f-cf8e-483b-a185-3370802b6ad5",
   "metadata": {},
   "outputs": [
    {
     "name": "stdout",
     "output_type": "stream",
     "text": [
      "3\n",
      "4\n",
      "14\n",
      "12\n",
      "60\n"
     ]
    }
   ],
   "source": [
    "class rectangle():\n",
    "    def __init__(self, length, width):\n",
    "        self.length = length\n",
    "        self.width = width\n",
    "\n",
    "    def perimeter(self):\n",
    "        return (2 * (self.length + self.width))\n",
    "    \n",
    "    def area(self):\n",
    "        return (self.length * self.width)\n",
    "\n",
    "    def display(self):\n",
    "        print(self.length)\n",
    "        print(self.width)\n",
    "        perimeter = self.perimeter()\n",
    "        area = self.area()\n",
    "        print(perimeter)\n",
    "        print(area)\n",
    "\n",
    "class parallelepipede(rectangle):\n",
    "    def __init__(self, length, width, height):\n",
    "        super().__init__(length, width)\n",
    "        self.height = height\n",
    "        \n",
    "    def volume(self):\n",
    "        print(self.area() * self.height)\n",
    "        \n",
    "rect = rectangle(3, 4)\n",
    "rect.display()\n",
    "\n",
    "pipe = parallelepipede(5, 3, 4)\n",
    "pipe.volume()"
   ]
  },
  {
   "cell_type": "markdown",
   "id": "41d4f78d-5a40-4765-b7ac-fd5f2375e9eb",
   "metadata": {},
   "source": [
    "Task 3: Person class and child Student class"
   ]
  },
  {
   "cell_type": "code",
   "execution_count": 9,
   "id": "09e71539-79e9-4588-a2db-14c379b6fed8",
   "metadata": {},
   "outputs": [
    {
     "name": "stdout",
     "output_type": "stream",
     "text": [
      "Name\n",
      "20\n",
      "Section\n"
     ]
    }
   ],
   "source": [
    "class person():\n",
    "    def __init__(self, name: str, age: str):\n",
    "        self.name = name\n",
    "        self.age = age\n",
    "        \n",
    "    def display(self):\n",
    "        print(self.name)\n",
    "        print(self.age)\n",
    "\n",
    "class student(person):\n",
    "    def __init__(self, name: str, age: str, section: str):\n",
    "        super().__init__(name, age)\n",
    "        self.section = section\n",
    "        \n",
    "    def displayStudent(self):\n",
    "        self.display()\n",
    "        print(self.section)\n",
    "\n",
    "\n",
    "s1 = student(\"Name\", 20, \"Section\")\n",
    "s1.displayStudent()"
   ]
  }
 ],
 "metadata": {
  "kernelspec": {
   "display_name": "Python 3 (ipykernel)",
   "language": "python",
   "name": "python3"
  },
  "language_info": {
   "codemirror_mode": {
    "name": "ipython",
    "version": 3
   },
   "file_extension": ".py",
   "mimetype": "text/x-python",
   "name": "python",
   "nbconvert_exporter": "python",
   "pygments_lexer": "ipython3",
   "version": "3.12.4"
  }
 },
 "nbformat": 4,
 "nbformat_minor": 5
}
